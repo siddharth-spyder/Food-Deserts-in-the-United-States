from google.colab import drive
drive.mount('/content/drive')  # Mount the drive
print('Drive mounted successfully.')
